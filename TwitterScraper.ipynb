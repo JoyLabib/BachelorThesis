{
 "cells": [
  {
   "cell_type": "markdown",
   "id": "2d9dff5f-193b-47ff-9de7-3bcbaa8f6a14",
   "metadata": {},
   "source": [
    "# Importing all necessary libraries"
   ]
  },
  {
   "cell_type": "code",
   "execution_count": 6,
   "id": "be0289f5-b64d-4af9-a063-5157c3518d8e",
   "metadata": {},
   "outputs": [],
   "source": [
    "from ntscraper import Nitter\n",
    "from pprint import pprint\n",
    "import pandas as pd"
   ]
  },
  {
   "cell_type": "markdown",
   "id": "c9af5104-c091-4605-b95c-010919c505c0",
   "metadata": {},
   "source": [
    "# 1. Function for getting all the user's information from his account"
   ]
  },
  {
   "cell_type": "code",
   "execution_count": 7,
   "id": "d6397a34-db17-44f5-8424-6095560e483b",
   "metadata": {},
   "outputs": [],
   "source": [
    "def get_userInfo (user):\n",
    "    userInfo = scraper.get_profile_info(username = user)\n",
    "    if userInfo is not None:\n",
    "        data = {\n",
    "        'name':[],\n",
    "        'id':[],\n",
    "        'username':[],\n",
    "        'bio':[],\n",
    "        'followers':[],\n",
    "        'tweets':[]\n",
    "        }\n",
    "        data['name'].append(userInfo['name'])\n",
    "        data['id'].append(userInfo['id'])\n",
    "        data['username'].append(userInfo['username'])\n",
    "        data['bio'].append(userInfo['bio'])\n",
    "        data['followers'].append(userInfo['stats']['followers'])\n",
    "        data['tweets'].append(userInfo['stats']['tweets'])\n",
    "\n",
    "        df = pd.DataFrame(data)\n",
    "        df.to_csv(user+\"_userInfo.csv\")"
   ]
  },
  {
   "cell_type": "markdown",
   "id": "f80bea61-4e3a-4bec-89a1-25d71c2fc1fd",
   "metadata": {},
   "source": [
    "# 2. Function for getting the first 500 user tweets for the selected username"
   ]
  },
  {
   "cell_type": "code",
   "execution_count": 9,
   "id": "b325dbf6-8618-46bb-8fd4-90ac7a1ab466",
   "metadata": {},
   "outputs": [
    {
     "name": "stderr",
     "output_type": "stream",
     "text": [
      "Testing instances: 100%|█████████████████████| 77/77 [05:17<00:00,  4.12s/it]\n"
     ]
    }
   ],
   "source": [
    "scraper = Nitter()\n",
    "def create_tweets_dataset(user, no_of_tweets):\n",
    "    tweets = scraper.get_tweets(user, mode = \"user\", number = no_of_tweets)\n",
    "    if tweets is not None:\n",
    "        data = {\n",
    "        'link':[],\n",
    "        'text':[],\n",
    "        'name':[],\n",
    "        'username':[],\n",
    "        'likes':[],\n",
    "        'quotes':[],\n",
    "        'retweets':[],\n",
    "        'comments':[],\n",
    "        'date':[],\n",
    "        'is_retweet':[]\n",
    "        }\n",
    "        \n",
    "        for tweet in tweets[\"tweets\"]:\n",
    "            data['link'].append(tweet['link'])\n",
    "            data['text'].append(tweet['text'])\n",
    "            data['name'].append(tweet['user']['name'])\n",
    "            data['username'].append(tweet['user']['username'])\n",
    "            data['likes'].append(tweet['stats']['likes'])\n",
    "            data['quotes'].append(tweet['stats']['quotes'])\n",
    "            data['comments'].append(tweet['stats']['comments'])\n",
    "            data['retweets'].append(tweet['stats']['retweets'])\n",
    "            data['date'].append(tweet['date'])\n",
    "            data['is_retweet'].append(tweet['is-retweet'])\n",
    "        df = pd.DataFrame(data)\n",
    "        df.to_csv(username+\"_tweets_data.csv\")"
   ]
  },
  {
   "cell_type": "markdown",
   "id": "80950d84-e3e7-4293-a3ac-f07df4d7cbd5",
   "metadata": {},
   "source": [
    "# A list with all usernames we wish to fetch their tweets"
   ]
  },
  {
   "cell_type": "code",
   "execution_count": 13,
   "id": "b693ac3a-b8b1-4f45-91a6-0b9c41d19a7e",
   "metadata": {},
   "outputs": [],
   "source": [
    "usernames = ['TheSharkDaymond','riteshagar','_sachinbansal','bhash','timoreilly','randizuckerberg',\n",
    "             'ThisIsSethsBlog','SteveCase','anandmahindra','udaykotak','NandanNilekani','kiranshaw',\n",
    "             'AditiGP','GuyKawasaki','sophiaamoruso','TonyRobbins','mcuban'',''PatFlynn','reidhoffman','ariannahuff',\n",
    "             'Julian','tferriss','BarbaraCorcoran','ericries','hnshah','andrewchen','kevinrose',\n",
    "             'larrykim','matt_gray_','Codie_Sanchez','awilkinson','sweatystartup']"
   ]
  },
  {
   "cell_type": "markdown",
   "id": "b3d5e57e-37da-40f9-baf2-e7cc41e81d97",
   "metadata": {},
   "source": [
    "# Iterating through the list and getting their data and tweets"
   ]
  },
  {
   "cell_type": "code",
   "execution_count": 14,
   "id": "0c89502f-0ec8-4e46-989a-d9e90ff31cda",
   "metadata": {},
   "outputs": [
    {
     "name": "stdout",
     "output_type": "stream",
     "text": [
      "15-Apr-24 14:34:29 - No instance specified, using random instance https://nitter.privacydev.net\n",
      "15-Apr-24 14:34:34 - No instance specified, using random instance https://nitter.privacydev.net\n",
      "15-Apr-24 14:34:39 - Current stats for richardbranson: 20 tweets, 0 threads...\n",
      "15-Apr-24 14:34:43 - Current stats for richardbranson: 38 tweets, 0 threads...\n",
      "15-Apr-24 14:34:46 - Current stats for richardbranson: 57 tweets, 0 threads...\n",
      "15-Apr-24 14:34:50 - Current stats for richardbranson: 76 tweets, 0 threads...\n",
      "15-Apr-24 14:34:53 - Fetching error: Instance has been rate limited.Use another instance or try again later.\n",
      "15-Apr-24 14:34:55 - No instance specified, using random instance https://nitter.esmailelbob.xyz\n",
      "15-Apr-24 14:35:02 - No instance specified, using random instance https://nitter.privacydev.net\n",
      "15-Apr-24 14:35:06 - Current stats for BillGates: 18 tweets, 0 threads...\n",
      "15-Apr-24 14:35:09 - Fetching error: Instance has been rate limited.Use another instance or try again later.\n",
      "15-Apr-24 14:35:12 - No instance specified, using random instance https://nitter.privacydev.net\n",
      "15-Apr-24 14:35:16 - No instance specified, using random instance https://nitter.esmailelbob.xyz\n",
      "15-Apr-24 14:35:30 - Current stats for elonmusk: 21 tweets, 0 threads...\n",
      "15-Apr-24 14:35:39 - Current stats for elonmusk: 40 tweets, 0 threads...\n",
      "15-Apr-24 14:35:44 - Current stats for elonmusk: 60 tweets, 0 threads...\n",
      "15-Apr-24 14:35:50 - Current stats for elonmusk: 80 tweets, 0 threads...\n",
      "15-Apr-24 14:35:55 - Current stats for elonmusk: 100 tweets, 0 threads...\n",
      "15-Apr-24 14:36:06 - Current stats for elonmusk: 120 tweets, 0 threads...\n",
      "15-Apr-24 14:36:11 - Current stats for elonmusk: 140 tweets, 0 threads...\n",
      "15-Apr-24 14:36:17 - Current stats for elonmusk: 160 tweets, 0 threads...\n",
      "15-Apr-24 14:36:22 - Current stats for elonmusk: 180 tweets, 0 threads...\n",
      "15-Apr-24 14:36:28 - Current stats for elonmusk: 200 tweets, 0 threads...\n",
      "15-Apr-24 14:36:34 - Current stats for elonmusk: 220 tweets, 0 threads...\n",
      "15-Apr-24 14:36:40 - Current stats for elonmusk: 240 tweets, 0 threads...\n",
      "15-Apr-24 14:36:47 - Current stats for elonmusk: 260 tweets, 0 threads...\n",
      "15-Apr-24 14:36:53 - Current stats for elonmusk: 280 tweets, 0 threads...\n",
      "15-Apr-24 14:36:58 - Current stats for elonmusk: 300 tweets, 0 threads...\n",
      "15-Apr-24 14:37:06 - Current stats for elonmusk: 320 tweets, 0 threads...\n",
      "15-Apr-24 14:37:18 - https://nitter.esmailelbob.xyz unreachable. Trying https://nitter.privacydev.net\n",
      "15-Apr-24 14:37:23 - Current stats for elonmusk: 340 tweets, 0 threads...\n",
      "15-Apr-24 14:37:24 - Empty page on https://nitter.privacydev.net\n",
      "15-Apr-24 14:37:26 - No instance specified, using random instance https://nitter.privacydev.net\n",
      "15-Apr-24 14:37:27 - Empty page on https://nitter.privacydev.net\n",
      "15-Apr-24 14:37:29 - No instance specified, using random instance https://nitter.esmailelbob.xyz\n",
      "15-Apr-24 14:37:42 - Current stats for satyanadella: 18 tweets, 0 threads...\n",
      "15-Apr-24 14:37:47 - Current stats for satyanadella: 38 tweets, 0 threads...\n",
      "15-Apr-24 14:37:53 - Current stats for satyanadella: 57 tweets, 0 threads...\n",
      "15-Apr-24 14:37:59 - Current stats for satyanadella: 77 tweets, 0 threads...\n",
      "15-Apr-24 14:38:08 - Current stats for satyanadella: 97 tweets, 0 threads...\n",
      "15-Apr-24 14:38:12 - Current stats for satyanadella: 116 tweets, 0 threads...\n",
      "15-Apr-24 14:38:17 - Current stats for satyanadella: 136 tweets, 0 threads...\n",
      "15-Apr-24 14:38:22 - Current stats for satyanadella: 156 tweets, 0 threads...\n",
      "15-Apr-24 14:38:27 - Current stats for satyanadella: 176 tweets, 0 threads...\n",
      "15-Apr-24 14:38:32 - Current stats for satyanadella: 196 tweets, 0 threads...\n",
      "15-Apr-24 14:38:44 - https://nitter.esmailelbob.xyz unreachable. Trying https://nitter.privacydev.net\n",
      "15-Apr-24 14:38:45 - Empty page on https://nitter.privacydev.net\n",
      "15-Apr-24 14:38:47 - No instance specified, using random instance https://nitter.privacydev.net\n",
      "15-Apr-24 14:38:48 - Empty page on https://nitter.privacydev.net\n",
      "15-Apr-24 14:38:50 - No instance specified, using random instance https://nitter.esmailelbob.xyz\n",
      "15-Apr-24 14:39:03 - Current stats for sundarpichai: 20 tweets, 0 threads...\n",
      "15-Apr-24 14:39:06 - Fetching error: Instance has been rate limited.Use another instance or try again later.\n",
      "15-Apr-24 14:39:08 - No instance specified, using random instance https://nitter.privacydev.net\n",
      "15-Apr-24 14:39:13 - No instance specified, using random instance https://nitter.esmailelbob.xyz\n",
      "15-Apr-24 14:39:20 - Current stats for garyvee: 20 tweets, 0 threads...\n",
      "15-Apr-24 14:39:24 - Current stats for garyvee: 40 tweets, 0 threads...\n",
      "15-Apr-24 14:39:29 - Current stats for garyvee: 60 tweets, 0 threads...\n",
      "15-Apr-24 14:39:33 - Current stats for garyvee: 80 tweets, 0 threads...\n",
      "15-Apr-24 14:39:38 - Current stats for garyvee: 100 tweets, 0 threads...\n",
      "15-Apr-24 14:39:42 - Current stats for garyvee: 120 tweets, 0 threads...\n",
      "15-Apr-24 14:39:46 - Current stats for garyvee: 140 tweets, 0 threads...\n",
      "15-Apr-24 14:39:51 - Current stats for garyvee: 160 tweets, 0 threads...\n",
      "15-Apr-24 14:39:56 - Current stats for garyvee: 180 tweets, 0 threads...\n",
      "15-Apr-24 14:40:00 - Current stats for garyvee: 200 tweets, 0 threads...\n",
      "15-Apr-24 14:40:04 - Current stats for garyvee: 220 tweets, 0 threads...\n",
      "15-Apr-24 14:40:10 - Current stats for garyvee: 239 tweets, 0 threads...\n",
      "15-Apr-24 14:40:14 - Current stats for garyvee: 259 tweets, 0 threads...\n",
      "15-Apr-24 14:40:19 - Current stats for garyvee: 279 tweets, 0 threads...\n",
      "15-Apr-24 14:40:24 - Current stats for garyvee: 299 tweets, 0 threads...\n",
      "15-Apr-24 14:40:28 - Current stats for garyvee: 319 tweets, 0 threads...\n",
      "15-Apr-24 14:40:32 - Current stats for garyvee: 339 tweets, 0 threads...\n",
      "15-Apr-24 14:40:36 - Current stats for garyvee: 359 tweets, 0 threads...\n",
      "15-Apr-24 14:40:41 - Current stats for garyvee: 379 tweets, 0 threads...\n",
      "15-Apr-24 14:40:45 - Current stats for garyvee: 399 tweets, 0 threads...\n",
      "15-Apr-24 14:40:49 - Current stats for garyvee: 419 tweets, 0 threads...\n",
      "15-Apr-24 14:40:53 - Current stats for garyvee: 439 tweets, 0 threads...\n",
      "15-Apr-24 14:40:58 - Current stats for garyvee: 459 tweets, 0 threads...\n",
      "15-Apr-24 14:41:02 - Current stats for garyvee: 479 tweets, 0 threads...\n",
      "15-Apr-24 14:41:07 - Current stats for garyvee: 499 tweets, 0 threads...\n",
      "15-Apr-24 14:41:12 - Current stats for garyvee: 500 tweets, 0 threads...\n",
      "15-Apr-24 14:41:12 - No instance specified, using random instance https://nitter.privacydev.net\n",
      "15-Apr-24 14:41:13 - Empty page on https://nitter.privacydev.net\n",
      "15-Apr-24 14:41:15 - No instance specified, using random instance https://nitter.privacydev.net\n",
      "15-Apr-24 14:41:15 - Empty page on https://nitter.privacydev.net\n",
      "15-Apr-24 14:41:17 - No instance specified, using random instance https://nitter.esmailelbob.xyz\n"
     ]
    },
    {
     "name": "stderr",
     "output_type": "stream",
     "text": [
      "\n",
      "KeyboardInterrupt\n",
      "\n"
     ]
    }
   ],
   "source": [
    "for username in usernames:\n",
    "    get_userInfo(username)\n",
    "    create_tweets_dataset(username,500)"
   ]
  },
  {
   "cell_type": "code",
   "execution_count": null,
   "id": "47e8f4ab-9e7f-4c83-a54e-52b49056209e",
   "metadata": {},
   "outputs": [],
   "source": []
  }
 ],
 "metadata": {
  "kernelspec": {
   "display_name": "Python 3 (ipykernel)",
   "language": "python",
   "name": "python3"
  },
  "language_info": {
   "codemirror_mode": {
    "name": "ipython",
    "version": 3
   },
   "file_extension": ".py",
   "mimetype": "text/x-python",
   "name": "python",
   "nbconvert_exporter": "python",
   "pygments_lexer": "ipython3",
   "version": "3.11.5"
  }
 },
 "nbformat": 4,
 "nbformat_minor": 5
}
